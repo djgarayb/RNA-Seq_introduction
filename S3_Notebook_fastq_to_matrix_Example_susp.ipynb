{
  "nbformat": 4,
  "nbformat_minor": 0,
  "metadata": {
    "colab": {
      "name": "S3_Notebook_From_fastq_to_matrix_Example.ipynb",
      "provenance": [],
      "collapsed_sections": [
        "Vf22ruOVHZEj",
        "_dgeUjsHl_KC",
        "MyLnsAaMmBqR",
        "hXBX3gFIf2I1",
        "IIzJQFp3f6t7",
        "gJO8JA8egCg_",
        "wIOOefZop64_",
        "yfmEC3lsgIIb"
      ],
      "toc_visible": true,
      "machine_shape": "hm",
      "include_colab_link": true
    },
    "kernelspec": {
      "name": "python3",
      "display_name": "Python 3"
    }
  },
  "cells": [
    {
      "cell_type": "markdown",
      "metadata": {
        "id": "view-in-github",
        "colab_type": "text"
      },
      "source": [
        "<a href=\"https://colab.research.google.com/github/djgarayb/RNA-Seq_introduction/blob/master/S3_Notebook_fastq_to_matrix_Example_susp.ipynb\" target=\"_parent\"><img src=\"https://colab.research.google.com/assets/colab-badge.svg\" alt=\"Open In Colab\"/></a>"
      ]
    },
    {
      "cell_type": "markdown",
      "metadata": {
        "id": "YmmhmCkAUvJF",
        "colab_type": "text"
      },
      "source": [
        "# Mount G drive"
      ]
    },
    {
      "cell_type": "code",
      "metadata": {
        "id": "Mnbf1XAWN5xw",
        "colab_type": "code",
        "colab": {}
      },
      "source": [
        "from google.colab import drive\n",
        "drive.mount('/content/drive')"
      ],
      "execution_count": 0,
      "outputs": []
    },
    {
      "cell_type": "markdown",
      "metadata": {
        "id": "dpocdGM_3rQV",
        "colab_type": "text"
      },
      "source": [
        "# Install packages"
      ]
    },
    {
      "cell_type": "code",
      "metadata": {
        "id": "Ublc0YM34uGz",
        "colab_type": "code",
        "colab": {}
      },
      "source": [
        "pip install --upgrade rpy2"
      ],
      "execution_count": 0,
      "outputs": []
    },
    {
      "cell_type": "code",
      "metadata": {
        "id": "cTDzJCSG6m5i",
        "colab_type": "code",
        "colab": {}
      },
      "source": [
        "!wget https://github.com/pachterlab/kallisto/releases/download/v0.46.1/kallisto_linux-v0.46.1.tar.gz"
      ],
      "execution_count": 0,
      "outputs": []
    },
    {
      "cell_type": "code",
      "metadata": {
        "id": "sNeQ_aTr6oVz",
        "colab_type": "code",
        "colab": {}
      },
      "source": [
        "!tar -xf kallisto_linux-v0.46.1.tar.gz"
      ],
      "execution_count": 0,
      "outputs": []
    },
    {
      "cell_type": "code",
      "metadata": {
        "id": "RPCJQXjWU9Bi",
        "colab_type": "code",
        "colab": {}
      },
      "source": [
        "!wget https://www.bioinformatics.babraham.ac.uk/projects/fastqc/fastqc_v0.11.9.zip"
      ],
      "execution_count": 0,
      "outputs": []
    },
    {
      "cell_type": "code",
      "metadata": {
        "id": "oxm9UMefU9FC",
        "colab_type": "code",
        "colab": {}
      },
      "source": [
        "!unzip fastqc_v0.11.9.zip"
      ],
      "execution_count": 0,
      "outputs": []
    },
    {
      "cell_type": "code",
      "metadata": {
        "id": "TRbu1pRoU9H8",
        "colab_type": "code",
        "colab": {}
      },
      "source": [
        "!chmod +x FastQC/fastqc"
      ],
      "execution_count": 0,
      "outputs": []
    },
    {
      "cell_type": "code",
      "metadata": {
        "id": "QylL3egej8sN",
        "colab_type": "code",
        "colab": {}
      },
      "source": [
        "!pip install multiqc"
      ],
      "execution_count": 0,
      "outputs": []
    },
    {
      "cell_type": "markdown",
      "metadata": {
        "id": "OgQP4Fkm9t9D",
        "colab_type": "text"
      },
      "source": [
        "# Get the cDNA file"
      ]
    },
    {
      "cell_type": "code",
      "metadata": {
        "id": "ZRziIh9B9yPa",
        "colab_type": "code",
        "colab": {}
      },
      "source": [
        "\n",
        "!wget ftp://ftp.ensembl.org/pub/release-95/fasta/homo_sapiens/cdna/Homo_sapiens.GRCh38.cdna.all.fa.gz"
      ],
      "execution_count": 0,
      "outputs": []
    },
    {
      "cell_type": "code",
      "metadata": {
        "id": "lPwqQtIy9wCb",
        "colab_type": "code",
        "colab": {}
      },
      "source": [
        "!kallisto/kallisto index --make-unique -i kallisto_index.idx Homo_sapiens.GRCh38.cdna.all.fa.gz"
      ],
      "execution_count": 0,
      "outputs": []
    },
    {
      "cell_type": "code",
      "metadata": {
        "id": "m-A_rvhlLQjo",
        "colab_type": "code",
        "colab": {}
      },
      "source": [
        "!R"
      ],
      "execution_count": 0,
      "outputs": []
    },
    {
      "cell_type": "markdown",
      "metadata": {
        "id": "4NYn6_lmk5sV",
        "colab_type": "text"
      },
      "source": [
        "#### Use these options to complete dialogue for !R"
      ]
    },
    {
      "cell_type": "markdown",
      "metadata": {
        "id": "KtQSSLN2LWMo",
        "colab_type": "text"
      },
      "source": [
        "options(Ncpus = 2)\n",
        "\n",
        "install.packages(\"BiocManager\")\n",
        "\n",
        "BiocManager::install()\n",
        "\n",
        "a\n",
        "\n",
        "q()\n",
        "\n",
        "n"
      ]
    },
    {
      "cell_type": "code",
      "metadata": {
        "id": "sxruFVWt3zDW",
        "colab_type": "code",
        "colab": {}
      },
      "source": [
        "%load_ext rpy2.ipython"
      ],
      "execution_count": 0,
      "outputs": []
    },
    {
      "cell_type": "code",
      "metadata": {
        "id": "3NRWM0KG3zOn",
        "colab_type": "code",
        "colab": {}
      },
      "source": [
        "%%R\n",
        "options(Ncpus = 2)\n",
        "options(repos=structure(c(CRAN=\"http://cloud.r-project.org/\")))\n",
        "if (!requireNamespace(\"BiocManager\", quietly = TRUE))\n",
        "    install.packages(\"BiocManager\")\n",
        "\n",
        "BiocManager::install(c(\"tximport\",\"biomaRt\", \"dplyr\", \"tidyverse\",\"ensembldb\",\"EnsDb.Hsapiens.v86\",\"rhdf5\"))"
      ],
      "execution_count": 0,
      "outputs": []
    },
    {
      "cell_type": "markdown",
      "metadata": {
        "id": "64QoVxlq7xMc",
        "colab_type": "text"
      },
      "source": [
        "# Creating folder structure"
      ]
    },
    {
      "cell_type": "code",
      "metadata": {
        "id": "malSkrjH1rff",
        "colab_type": "code",
        "colab": {}
      },
      "source": [
        "!mkdir fastq\n",
        "!mkdir kalisto_results"
      ],
      "execution_count": 0,
      "outputs": []
    },
    {
      "cell_type": "code",
      "metadata": {
        "id": "_sNYvcf713J0",
        "colab_type": "code",
        "colab": {}
      },
      "source": [
        "%cd fastq "
      ],
      "execution_count": 0,
      "outputs": []
    },
    {
      "cell_type": "markdown",
      "metadata": {
        "id": "V5VcxIT902L8",
        "colab_type": "text"
      },
      "source": [
        "# Download sample fastq files"
      ]
    },
    {
      "cell_type": "markdown",
      "metadata": {
        "id": "7w_YUWJ5m-Sl",
        "colab_type": "text"
      },
      "source": [
        "**Mycobacterium tuberculosis Invasion of the Human Lung**: First Contact.\n",
        "Maertzdorf J1, Tönnies M2, Lozza L1, Schommer-Leitner S1, Mollenkopf H1, Bauer TT2, Kaufmann SHE1."
      ]
    },
    {
      "cell_type": "markdown",
      "metadata": {
        "id": "oz1BRD1pdM8T",
        "colab_type": "text"
      },
      "source": [
        "[NCBI paper link](https://www.ncbi.nlm.nih.gov/pubmed/29977236)"
      ]
    },
    {
      "cell_type": "markdown",
      "metadata": {
        "id": "hn8l7HJadfVs",
        "colab_type": "text"
      },
      "source": [
        "[Rawdata](https://www.ebi.ac.uk/ena/data/view/PRJNA447933)"
      ]
    },
    {
      "cell_type": "markdown",
      "metadata": {
        "id": "-rXeKOOsgdon",
        "colab_type": "text"
      },
      "source": [
        "**Cell suspension control**"
      ]
    },
    {
      "cell_type": "markdown",
      "metadata": {
        "id": "QiPuK4j61igQ",
        "colab_type": "text"
      },
      "source": [
        "Sample_857_Mtb\n"
      ]
    },
    {
      "cell_type": "code",
      "metadata": {
        "id": "IhMuPK8M1mHx",
        "colab_type": "code",
        "colab": {}
      },
      "source": [
        "!wget -P Sample_857_Mtb/ ftp://ftp.sra.ebi.ac.uk/vol1/fastq/SRR691/000/SRR6914410/SRR6914410_1.fastq.gz\n",
        "!wget -P Sample_857_Mtb/ ftp://ftp.sra.ebi.ac.uk/vol1/fastq/SRR691/000/SRR6914410/SRR6914410_2.fastq.gz"
      ],
      "execution_count": 0,
      "outputs": []
    },
    {
      "cell_type": "markdown",
      "metadata": {
        "id": "3Ey-FT4blO_E",
        "colab_type": "text"
      },
      "source": [
        "Sample_857_Ctrl"
      ]
    },
    {
      "cell_type": "code",
      "metadata": {
        "id": "0mKO5SBulSXm",
        "colab_type": "code",
        "colab": {}
      },
      "source": [
        "!wget -P Sample_857_Ctrl ftp://ftp.sra.ebi.ac.uk/vol1/fastq/SRR691/001/SRR6914411/SRR6914411_1.fastq.gz\n",
        "!wget -P Sample_857_Ctrl ftp://ftp.sra.ebi.ac.uk/vol1/fastq/SRR691/001/SRR6914411/SRR6914411_2.fastq.gz"
      ],
      "execution_count": 0,
      "outputs": []
    },
    {
      "cell_type": "markdown",
      "metadata": {
        "id": "WXRaW_v13FJx",
        "colab_type": "text"
      },
      "source": [
        "Sample_860_Mtb"
      ]
    },
    {
      "cell_type": "code",
      "metadata": {
        "id": "U7_TZGX-3EXi",
        "colab_type": "code",
        "colab": {}
      },
      "source": [
        "!wget -P Sample_860_Mtb ftp://ftp.sra.ebi.ac.uk/vol1/fastq/SRR691/002/SRR6914422/SRR6914422_1.fastq.gz\n",
        "!wget -P Sample_860_Mtb ftp://ftp.sra.ebi.ac.uk/vol1/fastq/SRR691/002/SRR6914422/SRR6914422_2.fastq.gz"
      ],
      "execution_count": 0,
      "outputs": []
    },
    {
      "cell_type": "markdown",
      "metadata": {
        "id": "lZxGxEepzEVt",
        "colab_type": "text"
      },
      "source": [
        "Sample_860_Ctrl"
      ]
    },
    {
      "cell_type": "code",
      "metadata": {
        "id": "AZIdKGNpzdtA",
        "colab_type": "code",
        "colab": {}
      },
      "source": [
        "!wget -P Sample_860_Ctrl ftp://ftp.sra.ebi.ac.uk/vol1/fastq/SRR691/003/SRR6914423/SRR6914423_1.fastq.gz\n",
        "!wget -P Sample_860_Ctrl ftp://ftp.sra.ebi.ac.uk/vol1/fastq/SRR691/003/SRR6914423/SRR6914423_2.fastq.gz"
      ],
      "execution_count": 0,
      "outputs": []
    },
    {
      "cell_type": "markdown",
      "metadata": {
        "id": "uxvSETFS4mTG",
        "colab_type": "text"
      },
      "source": [
        "Sample_869_Mtb\n"
      ]
    },
    {
      "cell_type": "code",
      "metadata": {
        "id": "IWtMpvdP4mkI",
        "colab_type": "code",
        "colab": {}
      },
      "source": [
        "!wget -P Sample_869_Mtb ftp://ftp.sra.ebi.ac.uk/vol1/fastq/SRR691/004/SRR6914434/SRR6914434_1.fastq.gz\n",
        "!wget -P Sample_869_Mtb ftp://ftp.sra.ebi.ac.uk/vol1/fastq/SRR691/004/SRR6914434/SRR6914434_2.fastq.gz"
      ],
      "execution_count": 0,
      "outputs": []
    },
    {
      "cell_type": "markdown",
      "metadata": {
        "id": "e31lFnnA4wwT",
        "colab_type": "text"
      },
      "source": [
        "Sample_869_Ctrl"
      ]
    },
    {
      "cell_type": "code",
      "metadata": {
        "id": "HMM2cQLV4x8n",
        "colab_type": "code",
        "colab": {}
      },
      "source": [
        "!wget -P Sample_869_Ctrl ftp://ftp.sra.ebi.ac.uk/vol1/fastq/SRR691/005/SRR6914435/SRR6914435_1.fastq.gz\n",
        "!wget -P Sample_869_Ctrl ftp://ftp.sra.ebi.ac.uk/vol1/fastq/SRR691/005/SRR6914435/SRR6914435_2.fastq.gz"
      ],
      "execution_count": 0,
      "outputs": []
    },
    {
      "cell_type": "markdown",
      "metadata": {
        "id": "84srnxKKfrPx",
        "colab_type": "text"
      },
      "source": [
        "Sample_875_Mtb"
      ]
    },
    {
      "cell_type": "code",
      "metadata": {
        "id": "CRxsDAUJft4k",
        "colab_type": "code",
        "colab": {}
      },
      "source": [
        "!wget -P Sample_875_Mtb ftp://ftp.sra.ebi.ac.uk/vol1/fastq/SRR691/006/SRR6914446/SRR6914446_1.fastq.gz\n",
        "!wget -P Sample_875_Mtb ftp://ftp.sra.ebi.ac.uk/vol1/fastq/SRR691/006/SRR6914446/SRR6914446_2.fastq.gz"
      ],
      "execution_count": 0,
      "outputs": []
    },
    {
      "cell_type": "markdown",
      "metadata": {
        "id": "5n2LmS1If8L1",
        "colab_type": "text"
      },
      "source": [
        "Sample_875_Ctrl"
      ]
    },
    {
      "cell_type": "code",
      "metadata": {
        "id": "E0w4_izF02Ta",
        "colab_type": "code",
        "colab": {}
      },
      "source": [
        "!wget -P Sample_875_Ctrl ftp://ftp.sra.ebi.ac.uk/vol1/fastq/SRR691/007/SRR6914447/SRR6914447_1.fastq.gz\n",
        "!wget -P Sample_875_Ctrl ftp://ftp.sra.ebi.ac.uk/vol1/fastq/SRR691/007/SRR6914447/SRR6914447_2.fastq.gz"
      ],
      "execution_count": 0,
      "outputs": []
    },
    {
      "cell_type": "markdown",
      "metadata": {
        "id": "6-wLhewG0ygI",
        "colab_type": "text"
      },
      "source": [
        "Sample_903_Mtb"
      ]
    },
    {
      "cell_type": "code",
      "metadata": {
        "id": "ud4ddSTd046k",
        "colab_type": "code",
        "colab": {}
      },
      "source": [
        "!wget -P Sample_903_Mtb ftp://ftp.sra.ebi.ac.uk/vol1/fastq/SRR691/008/SRR6914458/SRR6914458_1.fastq.gz\n",
        "!wget -P Sample_903_Mtb ftp://ftp.sra.ebi.ac.uk/vol1/fastq/SRR691/008/SRR6914458/SRR6914458_2.fastq.gz"
      ],
      "execution_count": 0,
      "outputs": []
    },
    {
      "cell_type": "markdown",
      "metadata": {
        "id": "bclbsI2O0fCg",
        "colab_type": "text"
      },
      "source": [
        "Sample_903_Ctrl"
      ]
    },
    {
      "cell_type": "code",
      "metadata": {
        "id": "fLw4GkAL09Ru",
        "colab_type": "code",
        "colab": {}
      },
      "source": [
        "!wget -P Sample_903_Ctrl ftp://ftp.sra.ebi.ac.uk/vol1/fastq/SRR691/009/SRR6914459/SRR6914459_1.fastq.gz\n",
        "!wget -P Sample_903_Ctrl ftp://ftp.sra.ebi.ac.uk/vol1/fastq/SRR691/009/SRR6914459/SRR6914459_2.fastq.gz"
      ],
      "execution_count": 0,
      "outputs": []
    },
    {
      "cell_type": "markdown",
      "metadata": {
        "id": "oLkqqEj00fGa",
        "colab_type": "text"
      },
      "source": [
        "Sample_905_Mtb"
      ]
    },
    {
      "cell_type": "code",
      "metadata": {
        "id": "i3VaBNtd0-at",
        "colab_type": "code",
        "colab": {}
      },
      "source": [
        "!wget -P Sample_905_Mtb ftp://ftp.sra.ebi.ac.uk/vol1/fastq/SRR691/000/SRR6914470/SRR6914470_1.fastq.gz\n",
        "!wget -P Sample_905_Mtb ftp://ftp.sra.ebi.ac.uk/vol1/fastq/SRR691/000/SRR6914470/SRR6914470_2.fastq.gz"
      ],
      "execution_count": 0,
      "outputs": []
    },
    {
      "cell_type": "markdown",
      "metadata": {
        "id": "Frm5Win80fKr",
        "colab_type": "text"
      },
      "source": [
        "Sample_905_Ctrl"
      ]
    },
    {
      "cell_type": "code",
      "metadata": {
        "id": "CmQOJuns0_Sh",
        "colab_type": "code",
        "colab": {}
      },
      "source": [
        "!wget -P Sample_905_Ctrl ftp://ftp.sra.ebi.ac.uk/vol1/fastq/SRR691/001/SRR6914471/SRR6914471_1.fastq.gz\n",
        "!wget -P Sample_905_Ctrl ftp://ftp.sra.ebi.ac.uk/vol1/fastq/SRR691/001/SRR6914471/SRR6914471_2.fastq.gz"
      ],
      "execution_count": 0,
      "outputs": []
    },
    {
      "cell_type": "markdown",
      "metadata": {
        "id": "K0JYLIvN0fQV",
        "colab_type": "text"
      },
      "source": [
        "Sample_923_Mtb"
      ]
    },
    {
      "cell_type": "code",
      "metadata": {
        "id": "PAD7mMrtgGQy",
        "colab_type": "code",
        "colab": {}
      },
      "source": [
        "!wget -P Sample_923_Mtb ftp://ftp.sra.ebi.ac.uk/vol1/fastq/SRR691/002/SRR6914482/SRR6914482_1.fastq.gz\n",
        "!wget -P Sample_923_Mtb ftp://ftp.sra.ebi.ac.uk/vol1/fastq/SRR691/002/SRR6914482/SRR6914482_2.fastq.gz"
      ],
      "execution_count": 0,
      "outputs": []
    },
    {
      "cell_type": "markdown",
      "metadata": {
        "id": "zgztnifsgALI",
        "colab_type": "text"
      },
      "source": [
        "Sample_923_Ctrl"
      ]
    },
    {
      "cell_type": "code",
      "metadata": {
        "id": "vJu-BOvygIxx",
        "colab_type": "code",
        "colab": {}
      },
      "source": [
        "!wget -P Sample_923_Ctrl ftp://ftp.sra.ebi.ac.uk/vol1/fastq/SRR691/003/SRR6914483/SRR6914483_1.fastq.gz\n",
        "!wget -P Sample_923_Ctrl ftp://ftp.sra.ebi.ac.uk/vol1/fastq/SRR691/003/SRR6914483/SRR6914483_2.fastq.gz"
      ],
      "execution_count": 0,
      "outputs": []
    },
    {
      "cell_type": "markdown",
      "metadata": {
        "id": "_JwTVe_9gDpa",
        "colab_type": "text"
      },
      "source": [
        "Sample_944_Mtb"
      ]
    },
    {
      "cell_type": "code",
      "metadata": {
        "id": "c8ZM3kUsgJeq",
        "colab_type": "code",
        "colab": {}
      },
      "source": [
        "!wget -P Sample_944_Mtb ftp://ftp.sra.ebi.ac.uk/vol1/fastq/SRR691/004/SRR6914494/SRR6914494_1.fastq.gz\n",
        "!wget -P Sample_944_Mtb ftp://ftp.sra.ebi.ac.uk/vol1/fastq/SRR691/004/SRR6914494/SRR6914494_2.fastq.gz"
      ],
      "execution_count": 0,
      "outputs": []
    },
    {
      "cell_type": "markdown",
      "metadata": {
        "id": "Eu6Pzg_y2tcc",
        "colab_type": "text"
      },
      "source": [
        "Sample_944_Ctrl"
      ]
    },
    {
      "cell_type": "code",
      "metadata": {
        "id": "KywrjT-u2sXy",
        "colab_type": "code",
        "colab": {}
      },
      "source": [
        "!wget -P Sample_944_Ctrl ftp://ftp.sra.ebi.ac.uk/vol1/fastq/SRR691/005/SRR6914495/SRR6914495_1.fastq.gz\n",
        "!wget -P Sample_944_Ctrl ftp://ftp.sra.ebi.ac.uk/vol1/fastq/SRR691/005/SRR6914495/SRR6914495_2.fastq.gz"
      ],
      "execution_count": 0,
      "outputs": []
    },
    {
      "cell_type": "code",
      "metadata": {
        "id": "1WCElguiUllN",
        "colab_type": "code",
        "colab": {}
      },
      "source": [
        "%cd .."
      ],
      "execution_count": 0,
      "outputs": []
    },
    {
      "cell_type": "markdown",
      "metadata": {
        "id": "1WbMoxdt1m_A",
        "colab_type": "text"
      },
      "source": [
        "# Alingment "
      ]
    },
    {
      "cell_type": "markdown",
      "metadata": {
        "id": "Vf22ruOVHZEj",
        "colab_type": "text"
      },
      "source": [
        "## Kallisto alignment (compatible with Txtimport)"
      ]
    },
    {
      "cell_type": "code",
      "metadata": {
        "id": "nG1Lj6iIFjXg",
        "colab_type": "code",
        "colab": {}
      },
      "source": [
        "%%time\n",
        "%%!\n",
        "cd fastq\n",
        "for DIR in $(ls -d */); do\n",
        "  echo $DIR\n",
        "  cd $DIR\n",
        "  seq_file1=*_1.fastq.gz\n",
        "  seq_file2=*_2.fastq.gz\n",
        "  base=$(echo $seq_file1|awk '{print substr($0, 1, length()-11)}')\n",
        "  echo $base\n",
        "  echo \"Running Kallisto with the following code\"\n",
        "  echo \"/content/kallisto/kallisto quant -i /content/kallisto_index.idx --bias -o /content/kalisto_results/$DIR -t 2 $seq_file1 $seq_file2 >>log 2>&1\"\n",
        "  echo $seq_file1\n",
        "  echo $seq_file2\n",
        "  /content/kallisto/kallisto quant -i /content/kallisto_index.idx --bias -o /content/kalisto_results/$base -t 2 $seq_file1 $seq_file2 >>log 2>&1\n",
        "  cd ..\n",
        "done"
      ],
      "execution_count": 0,
      "outputs": []
    },
    {
      "cell_type": "markdown",
      "metadata": {
        "id": "_xDrzDTtHip7",
        "colab_type": "text"
      },
      "source": [
        "## Kallisto alignment with -b (required for Sleuth)"
      ]
    },
    {
      "cell_type": "code",
      "metadata": {
        "id": "SwNGzlN00li9",
        "colab_type": "code",
        "colab": {}
      },
      "source": [
        "%%!\n",
        "cd fastq\n",
        "for DIR in $(ls -d */); do\n",
        "  echo $DIR\n",
        "  cd $DIR\n",
        "  seq_file1=*_1.fastq.gz\n",
        "  seq_file2=*_2.fastq.gz\n",
        "  base=$(echo $seq_file1|awk '{print substr($0, 1, length()-11)}')\n",
        "  echo $base\n",
        "  echo \"Running Kallisto with the following code\"\n",
        "  echo \"/content/kallisto/kallisto quant -i /content/kallisto_index.idx --bias -b 50 -o /content/kalisto_results/$DIR -t 2 $seq_file1 $seq_file2 >>log 2>&1\"\n",
        "  echo $seq_file1\n",
        "  echo $seq_file2\n",
        "  /content/kallisto/kallisto quant -i /content/kallisto_index.idx --bias -b 50 -o /content/kalisto_results/$base -t 2 $seq_file1 $seq_file2 >>log 2>&1\n",
        "  cd ..\n",
        "done"
      ],
      "execution_count": 0,
      "outputs": []
    },
    {
      "cell_type": "markdown",
      "metadata": {
        "id": "jKvM191lYqmm",
        "colab_type": "text"
      },
      "source": [
        "# QC"
      ]
    },
    {
      "cell_type": "markdown",
      "metadata": {
        "id": "_dgeUjsHl_KC",
        "colab_type": "text"
      },
      "source": [
        "## FastQC"
      ]
    },
    {
      "cell_type": "code",
      "metadata": {
        "id": "plsj4zc6QdO-",
        "colab_type": "code",
        "colab": {}
      },
      "source": [
        "pwd"
      ],
      "execution_count": 0,
      "outputs": []
    },
    {
      "cell_type": "code",
      "metadata": {
        "id": "pBLNNwVatoHG",
        "colab_type": "code",
        "colab": {}
      },
      "source": [
        "ls"
      ],
      "execution_count": 0,
      "outputs": []
    },
    {
      "cell_type": "code",
      "metadata": {
        "id": "ULwnyDdLYp5E",
        "colab_type": "code",
        "colab": {}
      },
      "source": [
        "%%!\n",
        "cd fastq\n",
        "for DIR in $(ls -d */); do\n",
        "  echo $DIR\n",
        "  cd $DIR\n",
        "  /content/FastQC/fastqc *.fastq.gz\n",
        "  cd ..\n",
        "done"
      ],
      "execution_count": 0,
      "outputs": []
    },
    {
      "cell_type": "code",
      "metadata": {
        "id": "ONOqsusIu1kr",
        "colab_type": "code",
        "colab": {}
      },
      "source": [
        "ls"
      ],
      "execution_count": 0,
      "outputs": []
    },
    {
      "cell_type": "markdown",
      "metadata": {
        "id": "MyLnsAaMmBqR",
        "colab_type": "text"
      },
      "source": [
        "## MultiQC"
      ]
    },
    {
      "cell_type": "code",
      "metadata": {
        "id": "t357F78tl1Ba",
        "colab_type": "code",
        "colab": {}
      },
      "source": [
        "!multiqc ."
      ],
      "execution_count": 0,
      "outputs": []
    },
    {
      "cell_type": "markdown",
      "metadata": {
        "id": "-qf8rRpRjc0W",
        "colab_type": "text"
      },
      "source": [
        "# Creating our gene expresssion matrix with R"
      ]
    },
    {
      "cell_type": "markdown",
      "metadata": {
        "id": "LKlG_mbf4Xh_",
        "colab_type": "text"
      },
      "source": [
        "## Load packages"
      ]
    },
    {
      "cell_type": "code",
      "metadata": {
        "id": "5DwqXh0_4anD",
        "colab_type": "code",
        "colab": {}
      },
      "source": [
        "%%R\n",
        "# Load all the R libraries we will be using in the notebook\n",
        "library(tximport)\n",
        "library(biomaRt)\n",
        "library(Biobase)\n",
        "library(ggplot2)\n",
        "library(dplyr)\n",
        "library(tidyverse) \n",
        "library(Biostrings)\n",
        "library(ensembldb)\n",
        "library(EnsDb.Hsapiens.v86) \n",
        "library(rhdf5)\n"
      ],
      "execution_count": 0,
      "outputs": []
    },
    {
      "cell_type": "markdown",
      "metadata": {
        "id": "hXBX3gFIf2I1",
        "colab_type": "text"
      },
      "source": [
        "## Set WD"
      ]
    },
    {
      "cell_type": "code",
      "metadata": {
        "id": "cgUJj5Lyf0nB",
        "colab_type": "code",
        "colab": {}
      },
      "source": [
        "%%R\n",
        "setwd(\"/content/kalisto_results\")"
      ],
      "execution_count": 0,
      "outputs": []
    },
    {
      "cell_type": "markdown",
      "metadata": {
        "id": "IIzJQFp3f6t7",
        "colab_type": "text"
      },
      "source": [
        "## T2G table "
      ]
    },
    {
      "cell_type": "code",
      "metadata": {
        "id": "d1OwvciH4_6i",
        "colab_type": "code",
        "colab": {}
      },
      "source": [
        "%%R\n",
        "listTables(EnsDb.Hsapiens.v86)\n",
        "listColumns(EnsDb.Hsapiens.v86, \"tx\")\n",
        "Tx <- transcripts(EnsDb.Hsapiens.v86, columns=c(listColumns(EnsDb.Hsapiens.v86,\"tx\"), \"gene_name\"))\n",
        "Tx <- as_tibble(Tx)\n",
        "Tx <- dplyr::rename(Tx, target_id = tx_id)\n",
        "Tx <- dplyr::select(Tx, target_id, gene_name)\n",
        "print(dim(Tx))\n",
        "head(Tx)"
      ],
      "execution_count": 0,
      "outputs": []
    },
    {
      "cell_type": "markdown",
      "metadata": {
        "id": "gJO8JA8egCg_",
        "colab_type": "text"
      },
      "source": [
        "## Create metadata"
      ]
    },
    {
      "cell_type": "code",
      "metadata": {
        "id": "XNaetOtWGQjP",
        "colab_type": "code",
        "colab": {}
      },
      "source": [
        "%%R\n",
        "metadata <- matrix(c(\"sample1\",\"SRR6914400\",\"sample2\",\"SRR6914401\",\"sample3\",\"SRR6914402\",\"sample4\",\"SRR6914403\"),ncol=2,byrow=TRUE)\n",
        "colnames(metadata) <- c(\"sample\",\"folder\")\n",
        "metadata <- as.data.frame(metadata)\n",
        "metadata"
      ],
      "execution_count": 0,
      "outputs": []
    },
    {
      "cell_type": "markdown",
      "metadata": {
        "id": "wIOOefZop64_",
        "colab_type": "text"
      },
      "source": [
        "## Upload metadata from csv (Alternative)"
      ]
    },
    {
      "cell_type": "code",
      "metadata": {
        "id": "7tphVlm2qBDk",
        "colab_type": "code",
        "colab": {}
      },
      "source": [
        "metadata<-read.csv(\"Path to file\")"
      ],
      "execution_count": 0,
      "outputs": []
    },
    {
      "cell_type": "markdown",
      "metadata": {
        "id": "yfmEC3lsgIIb",
        "colab_type": "text"
      },
      "source": [
        "## Check paths"
      ]
    },
    {
      "cell_type": "code",
      "metadata": {
        "id": "xEgto-zoGT2r",
        "colab_type": "code",
        "colab": {}
      },
      "source": [
        "%%R\n",
        "path <- file.path(metadata$folder, \"abundance.h5\")\n",
        "all(file.exists(path)) "
      ],
      "execution_count": 0,
      "outputs": []
    },
    {
      "cell_type": "markdown",
      "metadata": {
        "id": "XxLzumoZibPA",
        "colab_type": "text"
      },
      "source": [
        "## Summary of kallisto quant resuls"
      ]
    },
    {
      "cell_type": "code",
      "metadata": {
        "id": "ACcWyIUtGWKs",
        "colab_type": "code",
        "colab": {}
      },
      "source": [
        "%%R\n",
        "Txi_gene <- tximport(path, \n",
        "                     type = \"kallisto\", \n",
        "                     tx2gene = Tx, \n",
        "                     txOut = FALSE, #How does the result change if this =FALSE vs =TRUE?\n",
        "                     countsFromAbundance = \"lengthScaledTPM\",\n",
        "                     ignoreTxVersion=TRUE)\n",
        "\n",
        "colSums(Txi_gene$counts)"
      ],
      "execution_count": 0,
      "outputs": []
    },
    {
      "cell_type": "markdown",
      "metadata": {
        "id": "_8vFmG01inok",
        "colab_type": "text"
      },
      "source": [
        "## Extract information you choose from pseudo-alignment results"
      ]
    },
    {
      "cell_type": "code",
      "metadata": {
        "id": "g5eV46SDGYF3",
        "colab_type": "code",
        "colab": {}
      },
      "source": [
        "%%R\n",
        "raw.data <- Txi_gene$counts\n",
        "colnames(raw.data) <- metadata$folder\n",
        "dim(raw.data)\n",
        "write.csv(raw.data,file=\"Data_kallisto_counts.csv\")"
      ],
      "execution_count": 0,
      "outputs": []
    },
    {
      "cell_type": "code",
      "metadata": {
        "id": "Dgs1pMW1YIUA",
        "colab_type": "code",
        "colab": {}
      },
      "source": [
        "%%R\n",
        "head(raw.data)"
      ],
      "execution_count": 0,
      "outputs": []
    },
    {
      "cell_type": "code",
      "metadata": {
        "id": "7QowN-0RGaBH",
        "colab_type": "code",
        "colab": {}
      },
      "source": [
        "%%R -o raw_data\n",
        "raw_data <- Txi_gene$abundance\n",
        "colnames(raw_data) <- metadata$folder\n",
        "dim(raw_data)\n",
        "write.csv(raw_data,file=\"Data_kallisto_TPM.csv\")"
      ],
      "execution_count": 0,
      "outputs": []
    },
    {
      "cell_type": "code",
      "metadata": {
        "id": "vH6fSckNVZ0w",
        "colab_type": "code",
        "colab": {}
      },
      "source": [
        "%%R\n",
        "head(raw_data)"
      ],
      "execution_count": 0,
      "outputs": []
    },
    {
      "cell_type": "code",
      "metadata": {
        "id": "nK1Mc8h2VktY",
        "colab_type": "code",
        "colab": {}
      },
      "source": [
        ""
      ],
      "execution_count": 0,
      "outputs": []
    }
  ]
}