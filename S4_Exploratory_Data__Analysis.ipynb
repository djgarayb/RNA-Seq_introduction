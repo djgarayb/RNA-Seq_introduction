{
  "nbformat": 4,
  "nbformat_minor": 0,
  "metadata": {
    "colab": {
      "name": "S4_Exploratory_Data _Analysis.ipynb",
      "provenance": [],
      "collapsed_sections": [],
      "toc_visible": true,
      "include_colab_link": true
    },
    "kernelspec": {
      "name": "python3",
      "display_name": "Python 3"
    }
  },
  "cells": [
    {
      "cell_type": "markdown",
      "metadata": {
        "id": "view-in-github",
        "colab_type": "text"
      },
      "source": [
        "<a href=\"https://colab.research.google.com/github/djgarayb/RNA-Seq_introduction/blob/master/S4_Exploratory_Data__Analysis.ipynb\" target=\"_parent\"><img src=\"https://colab.research.google.com/assets/colab-badge.svg\" alt=\"Open In Colab\"/></a>"
      ]
    },
    {
      "cell_type": "markdown",
      "metadata": {
        "id": "ODzmsXAcN5TB",
        "colab_type": "text"
      },
      "source": [
        "# Mount Google (G) drive"
      ]
    },
    {
      "cell_type": "code",
      "metadata": {
        "id": "Mnbf1XAWN5xw",
        "colab_type": "code",
        "colab": {}
      },
      "source": [
        "from google.colab import drive\n",
        "drive.mount('/content/drive')"
      ],
      "execution_count": 0,
      "outputs": []
    },
    {
      "cell_type": "markdown",
      "metadata": {
        "id": "fcailRP7OIlD",
        "colab_type": "text"
      },
      "source": [
        "# Install packages"
      ]
    },
    {
      "cell_type": "code",
      "metadata": {
        "id": "FxAdjGXSOW-O",
        "colab_type": "code",
        "colab": {}
      },
      "source": [
        "!Rscript -e \"options(Ncpus = 2)\" -e \"install.packages('devtools')\" -e \"install.packages('BiocManager')\" -e \"BiocManager::install(c('edgeR','limma','tximport','biomaRt', 'dplyr', 'tidyverse','ensembldb','EnsDb.Hsapiens.v86','rhdf5','genefilter'))\" -e \"devtools::install_github('pachterlab/sleuth')\""
      ],
      "execution_count": 0,
      "outputs": []
    },
    {
      "cell_type": "code",
      "metadata": {
        "id": "vdlRUffrd1qy",
        "colab_type": "code",
        "colab": {}
      },
      "source": [
        "from rpy2.robjects.packages import importr\n",
        "utils = importr('utils')\n",
        "%load_ext rpy2.ipython"
      ],
      "execution_count": 0,
      "outputs": []
    },
    {
      "cell_type": "markdown",
      "metadata": {
        "id": "VvKInR9cf9ht",
        "colab_type": "text"
      },
      "source": [
        "# Set working directory (WD)\n",
        "### Copy and paste the path to your kallisto_results file on G drive"
      ]
    },
    {
      "cell_type": "code",
      "metadata": {
        "id": "Gubbc70Ef9zy",
        "colab_type": "code",
        "colab": {}
      },
      "source": [
        "%%R\n",
        "setwd(\"/content/drive/My Drive/kalisto_results\")"
      ],
      "execution_count": 0,
      "outputs": []
    },
    {
      "cell_type": "code",
      "metadata": {
        "id": "cAbWYFdwKPw0",
        "colab_type": "code",
        "colab": {}
      },
      "source": [
        "%ls"
      ],
      "execution_count": 0,
      "outputs": []
    },
    {
      "cell_type": "markdown",
      "metadata": {
        "id": "7DLOSiJwgKqQ",
        "colab_type": "text"
      },
      "source": [
        "# Load packages"
      ]
    },
    {
      "cell_type": "code",
      "metadata": {
        "id": "8qB_t_o0gJ97",
        "colab_type": "code",
        "colab": {}
      },
      "source": [
        "%%R\n",
        "# Load all the R libraries we will be using in the notebook\n",
        "library(tximport)\n",
        "library(biomaRt)\n",
        "library(Biobase)\n",
        "library(ggplot2)\n",
        "library(dplyr)\n",
        "library(tidyverse) \n",
        "library(Biostrings)\n",
        "library(ensembldb)\n",
        "library(EnsDb.Hsapiens.v86) \n",
        "library(rhdf5)\n",
        "library(genefilter)\n",
        "library(RColorBrewer) \n",
        "library(reshape2)\n",
        "library(edgeR)\n",
        "library(matrixStats) \n",
        "library(sleuth) "
      ],
      "execution_count": 0,
      "outputs": []
    },
    {
      "cell_type": "markdown",
      "metadata": {
        "id": "emN8_x7git1w",
        "colab_type": "text"
      },
      "source": [
        "# Load the identifier conversion data"
      ]
    },
    {
      "cell_type": "code",
      "metadata": {
        "id": "OODLFOUdgM2-",
        "colab_type": "code",
        "colab": {}
      },
      "source": [
        "%%R\n",
        "listTables(EnsDb.Hsapiens.v86)\n",
        "listColumns(EnsDb.Hsapiens.v86, \"tx\")\n",
        "Tx <- transcripts(EnsDb.Hsapiens.v86, columns=c(listColumns(EnsDb.Hsapiens.v86,\"tx\"), \"gene_name\"))\n",
        "Tx <- as_tibble(Tx)\n",
        "Tx <- dplyr::rename(Tx, target_id = tx_id)\n",
        "Tx <- dplyr::select(Tx, target_id, gene_name)\n",
        "print(dim(Tx))\n",
        "head(Tx)"
      ],
      "execution_count": 0,
      "outputs": []
    },
    {
      "cell_type": "markdown",
      "metadata": {
        "id": "ajRxapXzLrbI",
        "colab_type": "text"
      },
      "source": [
        "# Create and load metadata file\n",
        "\n",
        "\n",
        "*   Create your metadata file in excel using sample, folder, group as mandatory columns \n",
        "*   You can add more columns\n",
        "*   Save it as .csv\n",
        "*   Load it on your notebook"
      ]
    },
    {
      "cell_type": "code",
      "metadata": {
        "id": "Jmk_Nmtqi_F9",
        "colab_type": "code",
        "colab": {}
      },
      "source": [
        "%%R\n",
        "metadata <- read.csv ('Metadata_susp.csv', header=TRUE)\n",
        "#metadata <- as.data.frame(metadata)\n",
        "metadata"
      ],
      "execution_count": 0,
      "outputs": []
    },
    {
      "cell_type": "code",
      "metadata": {
        "id": "aDb0n4qsi_LT",
        "colab_type": "code",
        "colab": {}
      },
      "source": [
        "%%R\n",
        "path <- file.path(metadata$folder, \"abundance.h5\")\n",
        "all(file.exists(path)) "
      ],
      "execution_count": 0,
      "outputs": []
    },
    {
      "cell_type": "code",
      "metadata": {
        "id": "HBxnOcwVi_O9",
        "colab_type": "code",
        "colab": {}
      },
      "source": [
        "%%R\n",
        "Txi_gene <- tximport(path, \n",
        "                     type = \"kallisto\", \n",
        "                     tx2gene = Tx, \n",
        "                     txOut = FALSE, #How does the result change if this =FALSE vs =TRUE?\n",
        "                     countsFromAbundance = \"lengthScaledTPM\",\n",
        "                     ignoreTxVersion=TRUE)\n",
        "\n",
        "colSums(Txi_gene$counts)"
      ],
      "execution_count": 0,
      "outputs": []
    },
    {
      "cell_type": "markdown",
      "metadata": {
        "id": "WnBfYhhlg49r",
        "colab_type": "text"
      },
      "source": [
        "# Examine your data up to this point"
      ]
    },
    {
      "cell_type": "code",
      "metadata": {
        "id": "gk7D_CIXg5Ox",
        "colab_type": "code",
        "colab": {}
      },
      "source": [
        "%%R\n",
        "myTPM <- Txi_gene$abundance\n",
        "myCounts <- Txi_gene$counts\n",
        "colnames(myCounts) <- metadata$folder\n",
        "colnames(myTPM) <- metadata$folder\n",
        "print(colSums(myTPM))\n",
        "colSums(myCounts)"
      ],
      "execution_count": 0,
      "outputs": []
    },
    {
      "cell_type": "markdown",
      "metadata": {
        "id": "Q0GEQ5xIhCu6",
        "colab_type": "text"
      },
      "source": [
        "# Generate summary stats for your data ----\n",
        "- 1st, calculate summary stats for each transcript or gene, and add these to your data matrix\n",
        "- then use the base R function 'transform' to modify the data matrix (equivalent of Excel's '=')"
      ]
    },
    {
      "cell_type": "code",
      "metadata": {
        "id": "jYe19DDTg5VS",
        "colab_type": "code",
        "colab": {}
      },
      "source": [
        "%%R\n",
        "myTPM.stats <- transform(myTPM, \n",
        "                         SD=rowSds(myTPM), \n",
        "                         AVG=rowMeans(myTPM),\n",
        "                         MED=rowMedians(myTPM)\n",
        "                         )\n",
        "\n",
        "myCounts.stats <- transform(myCounts, \n",
        "                            SD=rowSds(myCounts), \n",
        "                            AVG=rowMeans(myCounts), \n",
        "                            MED=rowMedians(myCounts)\n",
        "                            )\n",
        "head(myTPM.stats)"
      ],
      "execution_count": 0,
      "outputs": []
    },
    {
      "cell_type": "code",
      "metadata": {
        "id": "8v5rw68kheJf",
        "colab_type": "code",
        "colab": {}
      },
      "source": [
        "%%R\n",
        " ggplot(myCounts.stats, aes(x=MED, y=SD)) +\n",
        "  geom_point(shape=1, size=4)\n"
      ],
      "execution_count": 0,
      "outputs": []
    },
    {
      "cell_type": "code",
      "metadata": {
        "id": "zEIFZ9eG64HE",
        "colab_type": "code",
        "colab": {}
      },
      "source": [
        "%%R\n",
        " ggplot(myCounts.stats, aes(x=MED, y=SD)) +\n",
        "  geom_point(shape=1, size=4)+\n",
        "  scale_x_continuous(trans='log2')+\n",
        "  scale_y_continuous(trans='log2')"
      ],
      "execution_count": 0,
      "outputs": []
    },
    {
      "cell_type": "markdown",
      "metadata": {
        "id": "vORgtKAyiPGj",
        "colab_type": "text"
      },
      "source": [
        "# Make a DGElist from your counts ----"
      ]
    },
    {
      "cell_type": "code",
      "metadata": {
        "id": "T9lhxix-hfi7",
        "colab_type": "code",
        "colab": {}
      },
      "source": [
        "%%R\n",
        "myDGEList <- DGEList(Txi_gene$counts)\n",
        "# take a look at the DGEList object \n",
        "myDGEList\n",
        "#DEGList objects are a good R data file to consider saving to you working directory\n",
        "save(myDGEList, file = \"myDGEList\")\n",
        "#Saved DGEList objects can be easily shared and loaded into an R environment\n",
        "load(file = \"myDGEList\")"
      ],
      "execution_count": 0,
      "outputs": []
    },
    {
      "cell_type": "markdown",
      "metadata": {
        "id": "E7Bu95qmiTR5",
        "colab_type": "text"
      },
      "source": [
        "# Use the 'cpm' function from EdgeR to get counts per million"
      ]
    },
    {
      "cell_type": "code",
      "metadata": {
        "id": "U22-cLFKiRkU",
        "colab_type": "code",
        "colab": {}
      },
      "source": [
        "%%R\n",
        "cpm <- cpm(myDGEList) \n",
        "print(colSums(cpm))\n",
        "log2.cpm <- cpm(myDGEList, log=TRUE)\n",
        "\n",
        "# Take a look at the distribution of the Log2 CPM\n",
        "nsamples <- ncol(log2.cpm)\n",
        "myColors <- brewer.pal(nsamples, \"Paired\")"
      ],
      "execution_count": 0,
      "outputs": []
    },
    {
      "cell_type": "markdown",
      "metadata": {
        "id": "orjRhfJxiYOx",
        "colab_type": "text"
      },
      "source": [
        "# 'Coerce' your data matrix to a dataframe so that you can use tidyverse tools on it"
      ]
    },
    {
      "cell_type": "code",
      "metadata": {
        "id": "CIiG375giRoU",
        "colab_type": "code",
        "colab": {}
      },
      "source": [
        "%%R\n",
        "log2.cpm.df <- as.tibble(log2.cpm)\n",
        "log2.cpm.df\n",
        "# add your sample names to this dataframe (we lost these when we read our data in with tximport)\n",
        "colnames(log2.cpm.df) <- metadata$folder\n",
        "# use the reshape2 package to 'melt' your dataframe (from wide to tall)\n",
        "log2.cpm.df.melt <- melt(log2.cpm.df)\n",
        "Log2.cpm.df.melt <- as.tibble(log2.cpm.df.melt)\n",
        "Log2.cpm.df.melt"
      ],
      "execution_count": 0,
      "outputs": []
    },
    {
      "cell_type": "code",
      "metadata": {
        "id": "aalFh3CmiRrg",
        "colab_type": "code",
        "colab": {}
      },
      "source": [
        "%%R\n",
        "ggplot(Log2.cpm.df.melt, aes(x=variable, y=value, fill=variable)) +\n",
        "geom_violin(trim = FALSE, show.legend = TRUE) +\n",
        "stat_summary(fun.y = \"median\", geom = \"point\", shape = 95, size = 10, color = \"black\") +\n",
        "theme_bw()"
      ],
      "execution_count": 0,
      "outputs": []
    },
    {
      "cell_type": "markdown",
      "metadata": {
        "id": "sJsryyv1jgem",
        "colab_type": "text"
      },
      "source": [
        "# Filter your data ----"
      ]
    },
    {
      "cell_type": "code",
      "metadata": {
        "id": "s41RzPhzhfme",
        "colab_type": "code",
        "colab": {}
      },
      "source": [
        "%%R\n",
        "#first, take a look at how many genes or transcripts have no read counts at all\n",
        "table(rowSums(myDGEList$counts==0)==16)\n",
        "DGEList <- myDGEList\n",
        "\n",
        "\n",
        "# now set some cut-off to get rid of genes/transcripts with low counts\n",
        "keepers <- rowSums(cpm>1)>=6\n",
        "DGEList.filtered <- DGEList[keepers,]\n",
        "dim(DGEList.filtered)\n",
        "\n",
        "log2.cpm.filtered <- cpm(DGEList.filtered, log=TRUE)\n",
        "log2.cpm.filtered.df <- as.tibble(log2.cpm.filtered) \n",
        "colnames(log2.cpm.filtered.df) <- metadata$folder\n",
        "log2.cpm.filtered.df.melt <- melt(log2.cpm.filtered.df)\n",
        "log2.cpm.filtered.df.melt <- as.tibble(log2.cpm.filtered.df.melt)"
      ],
      "execution_count": 0,
      "outputs": []
    },
    {
      "cell_type": "code",
      "metadata": {
        "id": "WnfQeVkqhfsi",
        "colab_type": "code",
        "colab": {}
      },
      "source": [
        "%%R\n",
        "ggplot(log2.cpm.filtered.df.melt, aes(x=variable, y=value, fill=variable)) +\n",
        "geom_violin(trim = TRUE, show.legend = TRUE) +\n",
        "stat_summary(fun.y = \"median\", geom = \"point\", shape = 95, size = 10, color = \"black\") +\n",
        "theme_bw()"
      ],
      "execution_count": 0,
      "outputs": []
    },
    {
      "cell_type": "markdown",
      "metadata": {
        "id": "F123AWM-js9b",
        "colab_type": "text"
      },
      "source": [
        "# Normalize your data ----"
      ]
    },
    {
      "cell_type": "code",
      "metadata": {
        "id": "b6Wht-tshfwP",
        "colab_type": "code",
        "colab": {}
      },
      "source": [
        "%%R\n",
        "DGEList.filtered.norm <- calcNormFactors(DGEList.filtered, method = \"TMM\")\n",
        "# take a look at this new DGEList object...how has it changed?\n",
        "\n",
        "# use the 'cpm' function from EdgeR to get counts per million from your normalized data\n",
        "log2.cpm.filtered.norm <- cpm(DGEList.filtered.norm, log=TRUE)\n",
        "\n",
        "log2.cpm.filtered.norm.df <- as.tibble(log2.cpm.filtered.norm) \n",
        "colnames(log2.cpm.filtered.norm.df) <- metadata$folder\n",
        "log2.cpm.filtered.norm.df.melt <- melt(log2.cpm.filtered.norm.df)\n",
        "log2.cpm.filtered.norm.df.melt <- as.tibble(log2.cpm.filtered.norm.df.melt)\n"
      ],
      "execution_count": 0,
      "outputs": []
    },
    {
      "cell_type": "code",
      "metadata": {
        "id": "5xj3QLkOhfqA",
        "colab_type": "code",
        "colab": {}
      },
      "source": [
        "%%R\n",
        "ggplot(log2.cpm.filtered.norm.df.melt, aes(x=variable, y=value, fill=variable)) +\n",
        "geom_violin(trim = TRUE, show.legend = TRUE) +\n",
        "stat_summary(fun.y = \"median\", geom = \"point\", shape = 95, size = 10, color = \"black\") +\n",
        "theme_bw()\n",
        "\n",
        "\n"
      ],
      "execution_count": 0,
      "outputs": []
    },
    {
      "cell_type": "markdown",
      "metadata": {
        "id": "uuBCYRFrkC5H",
        "colab_type": "text"
      },
      "source": [
        "# Hierarchical clustering ---------------"
      ]
    },
    {
      "cell_type": "code",
      "metadata": {
        "id": "uc3TM15JjrZm",
        "colab_type": "code",
        "colab": {}
      },
      "source": [
        "%%R\n",
        "#hierarchical clustering can only work on a data matrix, not a data frame\n",
        "#try using filtered and unfiltered data...how does this change the results\n",
        "distance <- dist(t(log2.cpm.filtered.norm), method=\"maximum\") #other dist methods are \"maximum\", \"manhattan\", \"canberra\", \"binary\" or \"minkowski\"\n",
        "clusters <- hclust(distance, method = \"complete\") #other methods are ward.D, ward.D2, single, complete, average\n",
        "plot(clusters, labels=metadata$folder)"
      ],
      "execution_count": 0,
      "outputs": []
    },
    {
      "cell_type": "markdown",
      "metadata": {
        "id": "-rGvrHG8kH-J",
        "colab_type": "text"
      },
      "source": [
        "\n",
        "# Pricipal component analysis (PCA) -------------"
      ]
    },
    {
      "cell_type": "code",
      "metadata": {
        "id": "SgnU9zoHjrdQ",
        "colab_type": "code",
        "colab": {}
      },
      "source": [
        "%%R\n",
        "pca.res <- prcomp(t(log2.cpm.filtered.norm), scale.=F, retx=T)\n",
        "#look at pca.res in environment\n",
        "ls(pca.res)\n",
        "summary(pca.res) # Prints variance summary for all principal components.\n",
        "pca.res$rotation #$rotation shows you how much each gene influenced each PC (called 'scores')\n",
        "pca.res$x #$x shows you how much each sample influenced each PC (called 'loadings')\n",
        "#note that these loadings have a magnitude and a direction (this is the basis for making a PCA plot)\n",
        "pc.var<-pca.res$sdev^2 #sdev^2 gives you the eigenvalues\n",
        "pc.per<-round(pc.var/sum(pc.var)*100, 1)\n",
        "pc.per"
      ],
      "execution_count": 0,
      "outputs": []
    },
    {
      "cell_type": "code",
      "metadata": {
        "id": "fQqmHltKkAwW",
        "colab_type": "code",
        "colab": {}
      },
      "source": [
        "%%R\n",
        "pca.res.df <- as.tibble(pca.res$x)\n",
        "ggplot(pca.res.df, aes(x=PC1, y=PC2, color=metadata$group)) +\n",
        "geom_point(size=5) +\n",
        "theme(legend.position=\"right\") "
      ],
      "execution_count": 0,
      "outputs": []
    },
    {
      "cell_type": "code",
      "metadata": {
        "id": "S7ednCjXCunY",
        "colab_type": "code",
        "colab": {}
      },
      "source": [
        "%%R\n",
        "#  Make IQR_Median Plots\n",
        "counts_filtered <- DGEList.filtered.norm$counts\n",
        "log_counts<-log(counts_filtered+1)\n",
        "CPM<-cpm(DGEList.filtered.norm)\n",
        "\n",
        "IQR<-apply(CPM, 2, IQR)\n",
        "Median<-apply(CPM, 2, median)\n",
        "diff1<-mean(Median)-min(Median)\n",
        "diff2<-max(Median)-mean(Median)\n",
        "diff3<-mean(IQR)-min(IQR)\n",
        "diff4<-max(IQR)-mean(IQR)\n",
        "\n",
        "#  These plot settings work for this data and may need to be adjusted for your own data.  \n",
        "Xlim=c(mean(Median)-2*diff1,mean(Median)+2*diff2)\n",
        "Ylim=c(mean(IQR)-2*diff3,mean(IQR)+2*diff4)\n",
        "\n",
        "\n",
        "plot(Median, IQR, main=\"IQR vs. Median TMM normaliztion\", type=\"n\", xlim=Xlim,ylim=Ylim)\n",
        "text(Median, IQR, labels=names(IQR))\n",
        "\n",
        "#  Make boxes for StDev.\n",
        "Median_mean<-mean(Median)  \n",
        "c_sd1_mean<-sd(Median)\n",
        "c_sd2_mean<-2*sd(Median)\n",
        "c_sd3_mean<-3*sd(Median)\n",
        "IQR_mean<-mean(IQR)\n",
        "c_sd1_IQR<-sd(IQR)\n",
        "c_sd2_IQR<-2*sd(IQR)\n",
        "c_sd3_IQR<-3*sd(IQR)\n",
        "\n",
        "x0_c<-Median_mean-c_sd1_mean\n",
        "y0_c<-IQR_mean-c_sd1_IQR\n",
        "x1_c<-Median_mean+c_sd1_mean\n",
        "y1_c<-IQR_mean+c_sd1_IQR\n",
        "\n",
        "x0_c.2<-Median_mean-c_sd2_mean\n",
        "y0_c.2<-IQR_mean-c_sd2_IQR\n",
        "x1_c.2<-Median_mean+c_sd2_mean\n",
        "y1_c.2<-IQR_mean+c_sd2_IQR\n",
        "\n",
        "x0_c.3<-Median_mean-c_sd3_mean\n",
        "y0_c.3<-IQR_mean-c_sd3_IQR\n",
        "x1_c.3<-Median_mean+c_sd3_mean\n",
        "y1_c.3<-IQR_mean+c_sd3_IQR\n",
        "\n",
        "segments(x0_c,y0_c, x1=x1_c, y1=y0_c, col=\"blue\")\n",
        "segments(x0_c,y0_c, x1=x0_c, y1=y1_c, col=\"blue\")\n",
        "segments(x1_c,y0_c, x1=x1_c, y1=y1_c, col=\"blue\")\n",
        "segments(x0_c,y1_c, x1=x1_c, y1=y1_c, col=\"blue\")\n",
        "\n",
        "segments(x0_c.2,y0_c.2, x1=x1_c.2, y1=y0_c.2, col=\"red\")\n",
        "segments(x0_c.2,y0_c.2, x1=x0_c.2, y1=y1_c.2, col=\"red\")\n",
        "segments(x1_c.2,y0_c.2, x1=x1_c.2, y1=y1_c.2, col=\"red\")\n",
        "segments(x0_c.2,y1_c.2, x1=x1_c.2, y1=y1_c.2, col=\"red\")\n",
        "\n",
        "#  This portion is out of range so I removed it.  \n",
        "segments(x0_c.3,y0_c.3, x1=x1_c.3, y1=y0_c.3, col=\"green\")\n",
        "segments(x0_c.3,y0_c.3, x1=x0_c.3, y1=y1_c.3, col=\"green\")\n",
        "segments(x1_c.3,y0_c.3, x1=x1_c.3, y1=y1_c.3, col=\"green\")\n",
        "segments(x0_c.3,y1_c.3, x1=x1_c.3, y1=y1_c.3, col=\"green\")\n"
      ],
      "execution_count": 0,
      "outputs": []
    },
    {
      "cell_type": "markdown",
      "metadata": {
        "id": "WX9jZ4oDOmrv",
        "colab_type": "text"
      },
      "source": [
        "# Exclude samples if necessary"
      ]
    },
    {
      "cell_type": "code",
      "metadata": {
        "id": "cDcFXi3rEcbS",
        "colab_type": "code",
        "colab": {}
      },
      "source": [
        "metadata0 <- dplyr::filter(metadata, sample != 'Sample_905_Mtb')"
      ],
      "execution_count": 0,
      "outputs": []
    },
    {
      "cell_type": "markdown",
      "metadata": {
        "id": "sMKxSBOzCWLC",
        "colab_type": "text"
      },
      "source": [
        "# Sleuth"
      ]
    },
    {
      "cell_type": "code",
      "metadata": {
        "id": "Rg11M7p0E5NH",
        "colab_type": "code",
        "colab": {}
      },
      "source": [
        "%ls"
      ],
      "execution_count": 0,
      "outputs": []
    },
    {
      "cell_type": "markdown",
      "metadata": {
        "id": "JCAPEyhCFymR",
        "colab_type": "text"
      },
      "source": [
        "# Get TTG file"
      ]
    },
    {
      "cell_type": "code",
      "metadata": {
        "id": "dvKPfOpdFf55",
        "colab_type": "code",
        "colab": {}
      },
      "source": [
        "%%R\n",
        "mart <- biomaRt::useMart(biomart = \"ENSEMBL_MART_ENSEMBL\", dataset = \"hsapiens_gene_ensembl\")\n",
        "ttg <- biomaRt::getBM(\n",
        "  attributes = c(\"ensembl_transcript_id_version\", \"transcript_version\",\n",
        "                 \"ensembl_gene_id\", \"external_gene_name\", \"description\",\n",
        "                 \"transcript_biotype\"),  mart = mart)\n",
        "ttg <- dplyr::rename(ttg, target_id = ensembl_transcript_id_version,\n",
        "                     ens_gene = ensembl_gene_id, ext_gene = external_gene_name)\n",
        "ttg <- dplyr::select(ttg, c('target_id', 'ens_gene', 'ext_gene'))\n",
        "head(ttg)"
      ],
      "execution_count": 0,
      "outputs": []
    },
    {
      "cell_type": "markdown",
      "metadata": {
        "id": "I3Jcd5Yb09FE",
        "colab_type": "text"
      },
      "source": [
        "## Create a Sleuth Object "
      ]
    },
    {
      "cell_type": "code",
      "metadata": {
        "id": "HtEv6y1T0ny5",
        "colab_type": "code",
        "colab": {}
      },
      "source": [
        "%%R\n",
        "metadata <- dplyr::mutate(metadata,\n",
        "                          path = file.path(metadata$folder, \"abundance.h5\"))"
      ],
      "execution_count": 0,
      "outputs": []
    },
    {
      "cell_type": "code",
      "metadata": {
        "id": "IiyViOzH1JwH",
        "colab_type": "code",
        "colab": {}
      },
      "source": [
        "%%R\n",
        "head(metadata)"
      ],
      "execution_count": 0,
      "outputs": []
    },
    {
      "cell_type": "code",
      "metadata": {
        "id": "e_JG9aAd1OSG",
        "colab_type": "code",
        "colab": {}
      },
      "source": [
        "%%R\n",
        "so_GS <- sleuth_prep(metadata, target_mapping = ttg,gene_mode=TRUE,\n",
        "                   aggregation_column = 'ext_gene', extra_bootstrap_summary = TRUE,read_bootstrap_tpm = TRUE)"
      ],
      "execution_count": 0,
      "outputs": []
    },
    {
      "cell_type": "code",
      "metadata": {
        "id": "dTQBnEaN1crW",
        "colab_type": "code",
        "colab": {}
      },
      "source": [
        "%%R\n",
        "plot_pca(so_GS, color_by = 'group', units='scaled_reads_per_base')\n",
        "new_position_theme <- theme(legend.position = c(0.10, 0.90))\n",
        "plot_pca(so_GS, color_by = 'group', text_labels = TRUE,units=\"scaled_reads_per_base\") +\n",
        "  new_position_theme"
      ],
      "execution_count": 0,
      "outputs": []
    },
    {
      "cell_type": "code",
      "metadata": {
        "id": "GBl2IOh6FQ7G",
        "colab_type": "code",
        "colab": {}
      },
      "source": [
        "%%R\n",
        "plot_loadings(so_GS, pc_input = 1, units='scaled_reads_per_base')"
      ],
      "execution_count": 0,
      "outputs": []
    },
    {
      "cell_type": "code",
      "metadata": {
        "id": "plNYZVhzHsmj",
        "colab_type": "code",
        "colab": {}
      },
      "source": [
        "%%R\n",
        "plot_bootstrap(so_GS, \"MTRNR2L12\", units = \"scaled_reads_per_base\", color_by = \"group\")"
      ],
      "execution_count": 0,
      "outputs": []
    },
    {
      "cell_type": "code",
      "metadata": {
        "id": "zhFMr1wkICpy",
        "colab_type": "code",
        "colab": {}
      },
      "source": [
        "%%\n",
        "saveRDS(So_GS)"
      ],
      "execution_count": 0,
      "outputs": []
    }
  ]
}