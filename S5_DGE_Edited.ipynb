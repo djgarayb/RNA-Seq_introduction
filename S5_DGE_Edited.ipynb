{
  "nbformat": 4,
  "nbformat_minor": 0,
  "metadata": {
    "colab": {
      "name": "S5_DGE_Edited.ipynb",
      "provenance": [],
      "collapsed_sections": [],
      "toc_visible": true,
      "machine_shape": "hm",
      "include_colab_link": true
    },
    "kernelspec": {
      "name": "python3",
      "display_name": "Python 3"
    }
  },
  "cells": [
    {
      "cell_type": "markdown",
      "metadata": {
        "id": "view-in-github",
        "colab_type": "text"
      },
      "source": [
        "<a href=\"https://colab.research.google.com/github/djgarayb/RNA-Seq_introduction/blob/master/S5_DGE_Edited.ipynb\" target=\"_parent\"><img src=\"https://colab.research.google.com/assets/colab-badge.svg\" alt=\"Open In Colab\"/></a>"
      ]
    },
    {
      "cell_type": "markdown",
      "metadata": {
        "id": "ODzmsXAcN5TB",
        "colab_type": "text"
      },
      "source": [
        "# Link your G drive"
      ]
    },
    {
      "cell_type": "code",
      "metadata": {
        "id": "Mnbf1XAWN5xw",
        "colab_type": "code",
        "colab": {}
      },
      "source": [
        "from google.colab import drive\n",
        "drive.mount('/content/drive')"
      ],
      "execution_count": 0,
      "outputs": []
    },
    {
      "cell_type": "markdown",
      "metadata": {
        "id": "fcailRP7OIlD",
        "colab_type": "text"
      },
      "source": [
        "## Install packages"
      ]
    },
    {
      "cell_type": "code",
      "metadata": {
        "id": "FxAdjGXSOW-O",
        "colab_type": "code",
        "colab": {}
      },
      "source": [
        "!Rscript -e \"options(Ncpus = 2)\" -e \"install.packages('devtools')\" -e \"install.packages('BiocManager')\" -e \"BiocManager::install(c('edgeR','limma','tximport','biomaRt', 'dplyr', 'tidyverse','ensembldb','EnsDb.Hsapiens.v86','rhdf5','genefilter'))\" -e \"devtools::install_github('pachterlab/sleuth')\""
      ],
      "execution_count": 0,
      "outputs": []
    },
    {
      "cell_type": "code",
      "metadata": {
        "id": "eruszAtloz30",
        "colab_type": "code",
        "colab": {}
      },
      "source": [
        "!Rscript -e \"options(Ncpus = 2)\" -e \"install.packages('RVenn')\""
      ],
      "execution_count": 0,
      "outputs": []
    },
    {
      "cell_type": "code",
      "metadata": {
        "id": "qxBP2OR6sdBY",
        "colab_type": "code",
        "colab": {}
      },
      "source": [
        "!Rscript -e \"install.packages('gplots')\"\n"
      ],
      "execution_count": 0,
      "outputs": []
    },
    {
      "cell_type": "code",
      "metadata": {
        "id": "vdlRUffrd1qy",
        "colab_type": "code",
        "colab": {}
      },
      "source": [
        "from rpy2.robjects.packages import importr\n",
        "utils = importr('utils')\n",
        "%load_ext rpy2.ipython"
      ],
      "execution_count": 0,
      "outputs": []
    },
    {
      "cell_type": "markdown",
      "metadata": {
        "id": "VvKInR9cf9ht",
        "colab_type": "text"
      },
      "source": [
        "# Set WD"
      ]
    },
    {
      "cell_type": "code",
      "metadata": {
        "id": "Gubbc70Ef9zy",
        "colab_type": "code",
        "colab": {}
      },
      "source": [
        "%%R\n",
        "setwd(\"/content/drive/My Drive/kalisto_results\")"
      ],
      "execution_count": 0,
      "outputs": []
    },
    {
      "cell_type": "code",
      "metadata": {
        "id": "cAbWYFdwKPw0",
        "colab_type": "code",
        "colab": {}
      },
      "source": [
        "%ls"
      ],
      "execution_count": 0,
      "outputs": []
    },
    {
      "cell_type": "markdown",
      "metadata": {
        "id": "7DLOSiJwgKqQ",
        "colab_type": "text"
      },
      "source": [
        "# Load packages"
      ]
    },
    {
      "cell_type": "code",
      "metadata": {
        "id": "8qB_t_o0gJ97",
        "colab_type": "code",
        "colab": {}
      },
      "source": [
        "%%R\n",
        "# Load all the R libraries we will be using in the notebook\n",
        "library(tximport)\n",
        "library(biomaRt)\n",
        "library(Biobase)\n",
        "library(ggplot2)\n",
        "library(dplyr)\n",
        "library(tidyverse) \n",
        "library(Biostrings)\n",
        "library(ensembldb)\n",
        "library(EnsDb.Hsapiens.v86) \n",
        "library(rhdf5)\n",
        "library(genefilter)\n",
        "library(RColorBrewer) \n",
        "library(reshape2)\n",
        "library(edgeR)\n",
        "library(matrixStats) \n",
        "library(sleuth)\n",
        "library(RVenn)\n",
        "library(gplots)"
      ],
      "execution_count": 0,
      "outputs": []
    },
    {
      "cell_type": "markdown",
      "metadata": {
        "id": "sMKxSBOzCWLC",
        "colab_type": "text"
      },
      "source": [
        "# Sleuth"
      ]
    },
    {
      "cell_type": "code",
      "metadata": {
        "id": "Rg11M7p0E5NH",
        "colab_type": "code",
        "colab": {}
      },
      "source": [
        "%ls"
      ],
      "execution_count": 0,
      "outputs": []
    },
    {
      "cell_type": "markdown",
      "metadata": {
        "id": "nCDjl87CgMPX",
        "colab_type": "text"
      },
      "source": [
        "## Load or create metadata\n"
      ]
    },
    {
      "cell_type": "markdown",
      "metadata": {
        "id": "F7pTJmPzIxqi",
        "colab_type": "text"
      },
      "source": [
        "### Load your ready metadata "
      ]
    },
    {
      "cell_type": "code",
      "metadata": {
        "id": "dV5l4zku7NQ0",
        "colab_type": "code",
        "colab": {}
      },
      "source": [
        "%%R\n",
        "metadata <- read.csv ('Metadata_susp.csv', header=TRUE)\n",
        "#metadata <- as.data.frame(metadata)\n",
        "metadata"
      ],
      "execution_count": 0,
      "outputs": []
    },
    {
      "cell_type": "markdown",
      "metadata": {
        "id": "ED3JsRE2I3ol",
        "colab_type": "text"
      },
      "source": [
        "### Create a new one"
      ]
    },
    {
      "cell_type": "code",
      "metadata": {
        "id": "F5ot_kB2gH3h",
        "colab_type": "code",
        "colab": {}
      },
      "source": [
        "%%R\n",
        "metadata <- matrix(c(\"sample1\",\"SRR6914400\",\"group1\",\"donorA\",\"sample2\",\"SRR6914401\",'group1',\"donorB\",\"sample3\",\"SRR6914402\",'group2',\"donorA\",\"sample4\",\"SRR6914403\",'group2',\"donorB\"),ncol=4,byrow=TRUE)\n",
        "colnames(metadata) <- c(\"sample\",\"folder\",'group','donor')\n",
        "metadata <- as.data.frame(metadata)\n",
        "metadata"
      ],
      "execution_count": 0,
      "outputs": []
    },
    {
      "cell_type": "markdown",
      "metadata": {
        "id": "XinIiUw4fTr6",
        "colab_type": "text"
      },
      "source": [
        "# Read your saved Sleuth object"
      ]
    },
    {
      "cell_type": "code",
      "metadata": {
        "id": "mj27A4buf5P9",
        "colab_type": "code",
        "colab": {}
      },
      "source": [
        "%%R\n",
        "so_GS=readRDS('SleO_Susp_paper.rds')"
      ],
      "execution_count": 0,
      "outputs": []
    },
    {
      "cell_type": "markdown",
      "metadata": {
        "id": "Wz_WVzNSIitb",
        "colab_type": "text"
      },
      "source": [
        "# Optional: Create a new Sleuth Object (if you need it)"
      ]
    },
    {
      "cell_type": "markdown",
      "metadata": {
        "id": "JCAPEyhCFymR",
        "colab_type": "text"
      },
      "source": [
        "### Get TTG file"
      ]
    },
    {
      "cell_type": "code",
      "metadata": {
        "id": "dvKPfOpdFf55",
        "colab_type": "code",
        "colab": {}
      },
      "source": [
        "%%R\n",
        "mart <- biomaRt::useMart(biomart = \"ENSEMBL_MART_ENSEMBL\", dataset = \"hsapiens_gene_ensembl\")\n",
        "ttg <- biomaRt::getBM(\n",
        "  attributes = c(\"ensembl_transcript_id_version\", \"transcript_version\",\n",
        "                 \"ensembl_gene_id\", \"external_gene_name\", \"description\",\n",
        "                 \"transcript_biotype\"),  mart = mart)\n",
        "ttg <- dplyr::rename(ttg, target_id = ensembl_transcript_id_version,\n",
        "                     ens_gene = ensembl_gene_id, ext_gene = external_gene_name)\n",
        "ttg <- dplyr::select(ttg, c('target_id', 'ens_gene', 'ext_gene'))\n",
        "head(ttg)"
      ],
      "execution_count": 0,
      "outputs": []
    },
    {
      "cell_type": "markdown",
      "metadata": {
        "id": "I3Jcd5Yb09FE",
        "colab_type": "text"
      },
      "source": [
        "### Generate a Sleuth Object "
      ]
    },
    {
      "cell_type": "code",
      "metadata": {
        "id": "HtEv6y1T0ny5",
        "colab_type": "code",
        "colab": {}
      },
      "source": [
        "%%R\n",
        "metadata <- dplyr::mutate(metadata,\n",
        "                          path = file.path(metadata$folder, \"abundance.h5\"))"
      ],
      "execution_count": 0,
      "outputs": []
    },
    {
      "cell_type": "code",
      "metadata": {
        "id": "IiyViOzH1JwH",
        "colab_type": "code",
        "colab": {}
      },
      "source": [
        "%%R\n",
        "head(metadata)"
      ],
      "execution_count": 0,
      "outputs": []
    },
    {
      "cell_type": "code",
      "metadata": {
        "id": "e_JG9aAd1OSG",
        "colab_type": "code",
        "colab": {}
      },
      "source": [
        "%%R\n",
        "so_GS <- sleuth_prep(metadata, target_mapping = ttg,gene_mode=TRUE,\n",
        "                   aggregation_column = 'ext_gene', extra_bootstrap_summary = TRUE,read_bootstrap_tpm = TRUE)"
      ],
      "execution_count": 0,
      "outputs": []
    },
    {
      "cell_type": "code",
      "metadata": {
        "id": "dTQBnEaN1crW",
        "colab_type": "code",
        "colab": {}
      },
      "source": [
        "%%R\n",
        "plot_pca(so_GS, color_by = 'group', units='scaled_reads_per_base')\n",
        "new_position_theme <- theme(legend.position = c(0.10, 0.90))\n",
        "plot_pca(so_GS, color_by = 'group', text_labels = TRUE,units=\"scaled_reads_per_base\") +\n",
        "  new_position_theme"
      ],
      "execution_count": 0,
      "outputs": []
    },
    {
      "cell_type": "code",
      "metadata": {
        "id": "GBl2IOh6FQ7G",
        "colab_type": "code",
        "colab": {}
      },
      "source": [
        "%%R\n",
        "plot_loadings(so_GS, pc_input = 1, units='scaled_reads_per_base')"
      ],
      "execution_count": 0,
      "outputs": []
    },
    {
      "cell_type": "code",
      "metadata": {
        "id": "plNYZVhzHsmj",
        "colab_type": "code",
        "colab": {}
      },
      "source": [
        "%%R\n",
        "plot_bootstrap(so_GS, \"FTH1\", units = \"scaled_reads_per_base\", color_by = \"group\")"
      ],
      "execution_count": 0,
      "outputs": []
    },
    {
      "cell_type": "code",
      "metadata": {
        "id": "zhFMr1wkICpy",
        "colab_type": "code",
        "colab": {}
      },
      "source": [
        "%%R\n",
        "saveRDS(so_GS,\"So_GS.rds\")"
      ],
      "execution_count": 0,
      "outputs": []
    },
    {
      "cell_type": "markdown",
      "metadata": {
        "id": "Wq_hJEridsEn",
        "colab_type": "text"
      },
      "source": [
        "# **Differential gene expression**"
      ]
    },
    {
      "cell_type": "markdown",
      "metadata": {
        "id": "_uFV4MxvdzCx",
        "colab_type": "text"
      },
      "source": [
        "Create a model for statistical testing,In this case will be a paired design (~donor). For a group comparison change to ~1."
      ]
    },
    {
      "cell_type": "code",
      "metadata": {
        "id": "bneJeBHKcSDv",
        "colab_type": "code",
        "colab": {}
      },
      "source": [
        "%%R\n",
        "so_GS <- sleuth_fit(so_GS, ~donor, 'reduced')\n",
        "so_GS<- sleuth_fit(so_GS, ~donor + group, 'full')\n",
        "so_GS<- sleuth_lrt(so_GS, \"reduced\",'full')\n",
        "models(so_GS)"
      ],
      "execution_count": 0,
      "outputs": []
    },
    {
      "cell_type": "markdown",
      "metadata": {
        "id": "v3_xVMSqekFK",
        "colab_type": "text"
      },
      "source": [
        "**1.** **Likelihood ratio test**\n",
        "\n",
        "The likelihood ratio test (LRT) is a statistical test of the goodness-of-fit between two models. A relatively more complex model is compared to a simpler model to see if it fits a particular dataset significantly better. If so, the additional parameters of the more complex model are often used in subsequent analyses."
      ]
    },
    {
      "cell_type": "code",
      "metadata": {
        "id": "1spw3OQScSHa",
        "colab_type": "code",
        "colab": {}
      },
      "source": [
        "%%R\n",
        "full_results_GS_lrt <- sleuth_results(so_GS, 'reduced:full', \"lrt\",show_all = FALSE)"
      ],
      "execution_count": 0,
      "outputs": []
    },
    {
      "cell_type": "code",
      "metadata": {
        "id": "Bz2sDGPXeQJ5",
        "colab_type": "code",
        "colab": {}
      },
      "source": [
        "%%R\n",
        "sleuth_significant_GS_lrt <- dplyr::filter(full_results_GS_lrt, pval <= 0.05)"
      ],
      "execution_count": 0,
      "outputs": []
    },
    {
      "cell_type": "code",
      "metadata": {
        "id": "9Bym8pSueR7g",
        "colab_type": "code",
        "colab": {}
      },
      "source": [
        "%%R\n",
        "dim(sleuth_significant_GS_lrt)"
      ],
      "execution_count": 0,
      "outputs": []
    },
    {
      "cell_type": "code",
      "metadata": {
        "id": "WppR6414iWr4",
        "colab_type": "code",
        "colab": {}
      },
      "source": [
        "%%R\n",
        "head(sleuth_significant_GS_lrt)"
      ],
      "execution_count": 0,
      "outputs": []
    },
    {
      "cell_type": "markdown",
      "metadata": {
        "id": "shYnab2zi8A4",
        "colab_type": "text"
      },
      "source": [
        "RSS = the residual sum of squares under the \"null model\""
      ]
    },
    {
      "cell_type": "markdown",
      "metadata": {
        "id": "Ppck0kjieaeU",
        "colab_type": "text"
      },
      "source": [
        "**2.** **Wald test**\n",
        "\n",
        "The Wald test (also called the Wald Chi-Squared Test) is a way to find out if explanatory variables in a model are significant. “Significant” means that they add something to the model; variables that add nothing can be deleted without affecting the model in any meaningful way"
      ]
    },
    {
      "cell_type": "code",
      "metadata": {
        "id": "dzipn0rJecik",
        "colab_type": "code",
        "colab": {}
      },
      "source": [
        "%%R\n",
        "so_GS <- sleuth_wt(so_GS, which_beta = 'groupuninf',which_model = \"full\")\n",
        "full_results_GS_wt <- sleuth_results(so_GS,\"groupuninf\",test_type = \"wt\", which_model = \"full\",show_all = FALSE, pval_aggregate = F)\n",
        "\n",
        "sleuth_significant_GS_wt <- dplyr::filter(full_results_GS_wt, pval <= 0.05, abs(b)>0.5)\n",
        "head(sleuth_significant_GS_wt, 20)"
      ],
      "execution_count": 0,
      "outputs": []
    },
    {
      "cell_type": "code",
      "metadata": {
        "id": "niV2Fz5ohCri",
        "colab_type": "code",
        "colab": {}
      },
      "source": [
        "%%R\n",
        "dim(sleuth_significant_GS_wt)"
      ],
      "execution_count": 0,
      "outputs": []
    },
    {
      "cell_type": "code",
      "metadata": {
        "id": "te4rXkKthJkx",
        "colab_type": "code",
        "colab": {}
      },
      "source": [
        "%%R\n",
        "write.table(sleuth_significant_GS_wt,file=\"DEG_Suspension_paper.txt\", sep=\"\\t\", quote=F)"
      ],
      "execution_count": 0,
      "outputs": []
    },
    {
      "cell_type": "code",
      "metadata": {
        "id": "crEySiJ9hLdJ",
        "colab_type": "code",
        "colab": {}
      },
      "source": [
        "%%R\n",
        "plot_bootstrap(so_GS, \"APLNR\", units = \"scaled_reads_per_base\", color_by = \"group\")"
      ],
      "execution_count": 0,
      "outputs": []
    },
    {
      "cell_type": "markdown",
      "metadata": {
        "id": "-XOUOp4JhV6M",
        "colab_type": "text"
      },
      "source": [
        "# Save final Sleuth Object with statistics"
      ]
    },
    {
      "cell_type": "code",
      "metadata": {
        "id": "E0T4akJVhWQL",
        "colab_type": "code",
        "colab": {}
      },
      "source": [
        "%%R\n",
        "saveRDS(so_GS,\"so_GS_stat_test.rds\")"
      ],
      "execution_count": 0,
      "outputs": []
    },
    {
      "cell_type": "markdown",
      "metadata": {
        "id": "6eoKaUBZoBi6",
        "colab_type": "text"
      },
      "source": [
        "# **Venn diagrams**"
      ]
    },
    {
      "cell_type": "markdown",
      "metadata": {
        "id": "yYUPS2gHoGu2",
        "colab_type": "text"
      },
      "source": [
        "### WT LRT communalities"
      ]
    },
    {
      "cell_type": "code",
      "metadata": {
        "id": "amK0lW7WoEI7",
        "colab_type": "code",
        "colab": {}
      },
      "source": [
        "%%R\n",
        "set1 <- sleuth_significant_GS_wt$target_id\n",
        "set2 <- sleuth_significant_GS_lrt$target_id\n",
        "EN = list(WT=set1, LRT=set2)\n",
        "EN = Venn(EN)"
      ],
      "execution_count": 0,
      "outputs": []
    },
    {
      "cell_type": "code",
      "metadata": {
        "id": "5hTr4jJaoc1J",
        "colab_type": "code",
        "colab": {}
      },
      "source": [
        "%%R\n",
        "ggvenn(EN)"
      ],
      "execution_count": 0,
      "outputs": []
    },
    {
      "cell_type": "markdown",
      "metadata": {
        "id": "O8vMhtKNsAyM",
        "colab_type": "text"
      },
      "source": [
        "## **Heatmaps**"
      ]
    },
    {
      "cell_type": "code",
      "metadata": {
        "id": "1vO-JJcspvcL",
        "colab_type": "code",
        "colab": {}
      },
      "source": [
        "%%R\n",
        "mypalette <- brewer.pal(11,\"RdYlBu\")\n",
        "morecols <- colorRampPalette(mypalette)\n",
        "Colors<-brewer.pal(3,\"Set2\")\n",
        "#colors<-brewer.pal(11,\"Paired\")"
      ],
      "execution_count": 0,
      "outputs": []
    },
    {
      "cell_type": "code",
      "metadata": {
        "id": "gnmKXwmPsFAi",
        "colab_type": "code",
        "colab": {}
      },
      "source": [
        "%%R\n",
        "sleuth_matrix <- sleuth_to_matrix(so_GS, 'obs_norm', 'tpm')\n",
        "LogData <- log2(sleuth_matrix+1)\n",
        "var_genes <- apply(LogData, 1, var)\n",
        "head(var_genes)\n",
        "select_var <- names(sort(var_genes, decreasing=TRUE))[1:100]\n",
        "head(select_var)\n",
        "highly_variable <- LogData[select_var,]\n",
        "\n",
        "\n",
        "col.cell <- brewer.pal(9,\"Set1\")[metadata$group]\n",
        "col.cell\n",
        "dim(highly_variable)"
      ],
      "execution_count": 0,
      "outputs": []
    },
    {
      "cell_type": "code",
      "metadata": {
        "id": "Gjp3EwS2sLw3",
        "colab_type": "code",
        "colab": {}
      },
      "source": [
        "%%R\n",
        "heatmap.2(highly_variable,col=rev(morecols(50)),trace=\"none\", main=\"Top 100 most variable genes across samples\",ColSideColors=col.cell,scale=\"row\",hclustfun = hclust )"
      ],
      "execution_count": 0,
      "outputs": []
    },
    {
      "cell_type": "code",
      "metadata": {
        "id": "tErUlrC8s7aP",
        "colab_type": "code",
        "colab": {}
      },
      "source": [
        ""
      ],
      "execution_count": 0,
      "outputs": []
    }
  ]
}